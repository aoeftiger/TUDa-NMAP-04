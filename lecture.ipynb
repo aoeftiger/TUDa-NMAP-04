{
 "cells": [
  {
   "cell_type": "markdown",
   "id": "cc6904f5",
   "metadata": {
    "slideshow": {
     "slide_type": "slide"
    }
   },
   "source": [
    "<h1 style=\"text-align: center; vertical-align: middle;\">Numerical Methods of Accelerator Physics</h1>\n",
    "<h2 style=\"text-align: center; vertical-align: middle;\">Lecture by Dr. Adrian Oeftiger</h2>\n",
    "\n",
    "<img src=\"./img/etit.png\" style=\"width: 20%; margin: auto;\" />\n",
    "\n",
    "<h3 style=\"text-align: center; vertical-align: middle;\">Part 4: 18.11.2022</h3>"
   ]
  },
  {
   "cell_type": "markdown",
   "id": "32afa7c4",
   "metadata": {
    "slideshow": {
     "slide_type": "slide"
    }
   },
   "source": [
    "<h2>Run this notebook online!</h2>\n",
    "\n",
    "Interact and run this jupyter notebook online:\n",
    "\n",
    "<div class=\"alert alert-block alert-info\" style=\"text-align:center;\">\n",
    "1. via the public mybinder.org service: <br />\n",
    "\n",
    "<p style=\"text-align: center; margin-left, margin-right: auto; width: 100%;\">\n",
    "<a href=\"https://mybinder.org/v2/gh/aoeftiger/TUDa-NMAP-04/v1.0\"><img src=\"./img/binder_logo.svg\" /></a>\n",
    "</p>\n",
    "</div>\n",
    "\n",
    "<div class=\"alert alert-block alert-success\" style=\"text-align:center;\">\n",
    "2. on the <a href=\"https://tu-jupyter-i.ca.hrz.tu-darmstadt.de/\">local TU Darmstadt jupyterhub $\\nearrow$</a> (using your TU ID)\n",
    "\n",
    "$\\implies$ make sure you installed all the required python packages (see the [README](./README.md))!\n",
    "</div>\n",
    "\n",
    "Finally, also find this lecture rendered [as HTML slides on github $\\nearrow$](https://aoeftiger.github.io/TUDa-NMAP-04/) along with the [source repository $\\nearrow$](https://github.com/aoeftiger/TUDa-NMAP-04)."
   ]
  },
  {
   "cell_type": "markdown",
   "id": "5d9bb614",
   "metadata": {
    "slideshow": {
     "slide_type": "slide"
    }
   },
   "source": [
    "<h2 style=\"color: #b51f2a\">Refresher!</h2>\n",
    "\n",
    "- <b>sources for non-linearities</b> in accelerators\n",
    "- <b>deterministic chaos</b>: (bounded) deterministic dynamics with a positive Lyapunov exponent\n",
    "    - <b>sensitivity</b> to initial conditions\n",
    "    - cannot reliably compute <b>prediction for long-term time scales</b>\n",
    "- early indicators of chaotic motion:\n",
    "    - (maximum) <b>Lyapunov exponent</b>\n",
    "    - frequency diffusion via <b>Frequency Map Analysis (FMA)</b>, employing the NAFF algorithm\n",
    "- numerical artefacts: <b>rounding</b> and <b>truncation</b>, <b>machine precision</b>"
   ]
  },
  {
   "cell_type": "markdown",
   "id": "64253e34",
   "metadata": {
    "slideshow": {
     "slide_type": "slide"
    }
   },
   "source": [
    "<h2 style=\"color: #b51f2a\">Today!</h2>\n",
    "\n",
    "1. Acceleration with RF Cavities\n",
    "2. Longitudinal Beam Dynamics (Tracking Equations)"
   ]
  },
  {
   "cell_type": "markdown",
   "id": "a986d0c3",
   "metadata": {
    "slideshow": {
     "slide_type": "slide"
    }
   },
   "source": [
    "<h2>A Relativistic Particle</h2>\n",
    "\n",
    "Relativistic particle of rest mass $m_0$ at velocity $\\mathbf{v}$ features <b>momentum</b> \n",
    "\n",
    "$$p=|\\mathbf{p}|=|\\gamma m_0 \\mathbf{v}| = \\gamma m_0 \\beta c$$\n",
    "\n",
    "where\n",
    "\n",
    "$$\\begin{align}\n",
    "c&\\text{: speed of light in vacuum,}\\qquad &c&\\doteq 2.998\\times 10^8 \\text{m/s} \\\\\n",
    "\\beta&\\text{: particle speed in units of }c,\\qquad&\\beta&\\doteq |\\mathbf{v}/c| < 1 \\\\\n",
    "\\gamma&\\text{: relativistic Lorentz factor,}\\qquad &\\gamma&\\doteq\\cfrac{1}{\\sqrt{1 - \\beta^2}} > 1\n",
    "\\end{align}$$\n",
    "\n",
    "<b>Total energy</b> defined by\n",
    "\n",
    "$$E_\\text{tot}=\\gamma m_0 c^2$$\n",
    "\n",
    "and related to momentum $p$ by the relativistic equation\n",
    "\n",
    "$$E_\\text{tot}^2=\\bigl(m_0c^2\\bigr)^2 + (pc)^2$$"
   ]
  },
  {
   "cell_type": "markdown",
   "id": "a2039860",
   "metadata": {
    "slideshow": {
     "slide_type": "slide"
    }
   },
   "source": [
    "<h2>Lorentz Force</h2>\n",
    "\n",
    "Utilise electromagnetic fields $(\\mathbf{E},\\mathbf{B})$ to exert <b>Lorentz force</b> $\\mathbf{F}_L$ on particle of charge $q$:\n",
    "    \n",
    "$$\\frac{d\\mathbf{p}}{dt} = \\mathbf{F} = q\\,(\\mathbf{E}+\\mathbf{v}\\times\\mathbf{B})$$\n",
    "\n",
    "Deriving relativistic equation by time $t$ and using definition of $E_\\text{tot}$:\n",
    "\n",
    "$$\\implies E_\\text{tot} \\frac{dE_\\text{tot}}{dt} = c^2\\cdot\\mathbf{p}\\cdot \\frac{d\\mathbf{p}}{dt} = c^2\\cdot \\mathbf{p}\\cdot\\mathbf{F}_L$$\n",
    "\n",
    "$$\\stackrel{/E_\\text{tot}}{\\implies} \\frac{dE_\\text{tot}}{dt} = \\mathbf{v}\\cdot\\mathbf{F}_L = q\\cdot \\mathbf{v}\\cdot(\\mathbf{E}+\\underbrace{\\mathbf{v}\\times \\mathbf{B}}\\limits_\\text{cancels}) = q\\cdot \\mathbf{v}\\cdot\\mathbf{E}$$\n",
    "\n",
    "i.e. the total energy can only be increased by electric field components!"
   ]
  },
  {
   "cell_type": "markdown",
   "id": "30a71121",
   "metadata": {
    "slideshow": {
     "slide_type": "slide"
    }
   },
   "source": [
    "<h2>How to Accelerate?</h2>\n",
    "\n",
    "<img src=\"./img/frenet-serret.png\" alt=\"Frenet Serret coordinate system\" style=\"width:30%; float:right; margin-left:1em;\" />\n",
    "\n",
    "Particle moves along path length $s$ with velocity\n",
    "\n",
    "$$\\mathbf{v}_s = \\frac{d\\mathbf{s}}{dt}$$\n",
    "\n",
    "Variation of particle energy along $s$ (\"$\\approx$\"$\\rightarrow$ paraxial approximation):\n",
    "\n",
    "$$\\implies \\frac{dE_\\mathrm{tot}}{ds} = \\frac{1}{v_s} \\frac{dE_\\mathrm{tot}}{dt} = q \\cdot \\frac{\\mathbf{v}}{v_s}\\cdot \\mathbf{E} = q \\cdot \\Bigl(\\underbrace{\\frac{v_z}{v_s}}\\limits_{\\mathop{\\approx}1}E_z + \\underbrace{\\frac{v_x}{v_s}}\\limits_{\\mathop{\\approx}\\frac{dx}{ds}\\mathop{\\equiv}x'}\\cdot E_x + \\underbrace{\\frac{v_y}{v_s}}\\limits_{\\mathop{\\approx}\\frac{dy}{ds}\\mathop{\\equiv}y'}\\cdot E_y \\Bigr)$$\n",
    "\n",
    "$$\\implies\\left\\{\\begin{array}\\,\n",
    "    x',~y'&\\text{: transverse momenta or slopes, small }\\leftrightarrow\\text{transverse electric fields have weak impact} \\\\\n",
    "    E_z&\\text{ : longitudinal electric field most efficient to provide }\\cfrac{dE_\\mathrm{tot}}{ds}\n",
    "\\end{array}\\right.$$"
   ]
  },
  {
   "cell_type": "markdown",
   "id": "a1197264",
   "metadata": {
    "slideshow": {
     "slide_type": "slide"
    }
   },
   "source": [
    "<h2>Accelerate!</h2>\n",
    "\n",
    "3 typical ways to supply $E_z$:\n",
    "    \n",
    "1. <b>DC field</b> (single passage!)\n",
    "\n",
    "    - electrostatic accelerators: few MV/m before breakdown\n",
    "    - plasma accelerators: more than 100 GV/m\n",
    "    \n",
    "2. AC field: <b>travelling wave rf cavities</b> <br />$\\rightarrow$ ultra-relativistic particles (typically electrons)\n",
    "\n",
    "3. <span style=\"color:red;\">AC field: <b>resonator / standing wave rf cavities</b></span>: <br /> $\\rightarrow$ most versatile standard (International Linear Collider project: 35 MV/m)"
   ]
  },
  {
   "cell_type": "markdown",
   "id": "43917919",
   "metadata": {
    "slideshow": {
     "slide_type": "slide"
    }
   },
   "source": [
    "<div style=\"text-align: center; width:100%;\">\n",
    "    <h2 style=\"margin-bottom: 1em;\">Part I: Momentum / Energy Gain</h2>\n",
    "Longitudinal phase space: $(z, {\\color{red}{\\delta}})$\n",
    "</div>"
   ]
  },
  {
   "cell_type": "markdown",
   "id": "30e7d5c5",
   "metadata": {
    "slideshow": {
     "slide_type": "slide"
    }
   },
   "source": [
    "<h2>RF Resonator: Modes</h2>\n",
    "\n",
    "<img src=\"./img/cavity-map.png\" alt=\"Field amplitude map in rf cavity\" style=\"width:20%; float: right; margin-left:1em;\" />\n",
    "\n",
    "Particles travel through rf cavity in vacuum: piece of metal enclosing an empty volume!\n",
    "\n",
    "$\\implies$ boundary conditions $\\leftrightarrow$ electromagnetic discrete solutions $\\mathbf{E}_n(\\mathbf{r})$ to Maxwell equations, <b>resonating modes</b>!\n",
    "\n",
    "Each resonating mode identified by index $n$, characterised by field amplitude maps $\\mathbf{E}_n(\\mathbf{r}),\\mathbf{B}_n(\\mathbf{r})$ and <b>oscillating at RF frequency</b> $f_n=\\omega_n/2\\pi$! \n",
    "\n",
    "<!--Wave equation inside cavity:\n",
    "\n",
    "$$\\nabla^2 \\mathbf{E}_n + \\frac{\\omega_n{}^2}{c} \\mathbf{E}_n = \\mathbf{0}$$ -->\n",
    "\n",
    "$\\mathbf{E}_n$ satisfies the boundary conditions! At given time $t$, total electric field in cavity given by:\n",
    "\n",
    "$$\\mathbf{E}(\\mathbf{r}, t) = \\sum\\limits_{n} e_n(t) \\cdot \\mathbf{E}_n(\\mathbf{r})$$\n",
    "\n",
    "where $e_n(t)$ is the field time variation (can be modelled by RLC circuit i.e. damped harmonic oscillator equation).\n",
    "\n",
    "<p style=\"clear: both; font-size: 10pt; text-align: right; float: right;\">\n",
    "image from <a href=\"https://arxiv.org/pdf/1404.0927.pdf\">B. Holzer</a></p>"
   ]
  },
  {
   "cell_type": "markdown",
   "id": "07f1c3ff",
   "metadata": {
    "slideshow": {
     "slide_type": "slide"
    }
   },
   "source": [
    "<h2>RF Resonator: Maxwell Equations</h2>\n",
    "\n",
    "<img src=\"./img/cavity.png\" alt=\"Geometry of rf cavity\" style=\"clear: both; width:20%; float: right; margin-left:1em;\" />\n",
    "\n",
    "Often use <b>F</b>inite <b>I</b>ntegration <b>T</b>echnique (cf. other lectures) to compute $\\mathbf{E}_n(\\mathbf{r}),\\mathbf{B}_n(\\mathbf{r})$ for given rf cavity geometry based on Maxwell equations:\n",
    "\n",
    "$$\\left\\{\\begin{array}\\,\n",
    "    \\nabla \\cdot \\mathbf{E} &= \\frac{\\rho}{\\epsilon_0} \\\\\n",
    "    \\nabla \\times \\mathbf{E} + \\frac{\\partial\\mathbf{B}}{\\partial t} &= \\mathbf{0} \\\\\n",
    "    \\nabla \\cdot \\mathbf{B} &= 0 \\\\\n",
    "    \\nabla \\times \\mathbf{B} - \\frac{1}{c^2} \\frac{\\partial\\mathbf{E}}{\\partial t} &=  \\mu_0 \\mathbf{j}\n",
    "\\end{array}\\right\\}\n",
    "    \\quad\\text{with bound. cond.}\\quad\n",
    "\\left\\{\\begin{array}\\,\n",
    "    \\mathbf{n}\\cdot \\mathbf{E}_n &= \\frac{\\sigma}{\\epsilon_0} \\\\\n",
    "    \\mathbf{n}\\times \\mathbf{E}_n &= \\mathbf{0} \\\\\n",
    "    \\mathbf{n}\\cdot \\mathbf{B} &= 0 \\\\\n",
    "    \\mathbf{n}\\times (\\mu\\cdot\\mathbf{B}_n) &= \\mathbf{K}\n",
    "\\end{array}\\right\\}$$\n",
    "\n",
    "where $\\mathbf{n}$ is normal to the conductor surface, $\\sigma$ the charge surface density and $\\mathbf{K}$ the current surface density.\n",
    "\n",
    "$\\implies$ choose one $\\mathbf{E}_n$ as accelerating mode with optimal $E_z$ component along cavity axis (often TM${}_{010}$), optimise cavity geometry, mode is excited by injecting rf power via coupler!\n",
    "\n",
    "<p style=\"clear: both; font-size: 10pt; text-align: right; float: right;\">\n",
    "image from <a href=\"https://cas.web.cern.ch/sites/default/files/lectures/baden-2004/joel.pdf\">J. Le Duff</a></p>"
   ]
  },
  {
   "cell_type": "markdown",
   "id": "2002674b",
   "metadata": {
    "slideshow": {
     "slide_type": "slide"
    }
   },
   "source": [
    "<h2>Transit-time Factor</h2>\n",
    "\n",
    "Consider only accelerating mode excited in cavity. Particle travelling along cavity axis $s$ while time $t$ passes:\n",
    "\n",
    "$$E_z(s, t) = E_{z,0}(s) \\cdot \\sin\\bigl(\\omega_\\text{rf}\\, t + \\varphi_s\\bigr)$$\n",
    "\n",
    "Here, $\\varphi_s$ refers to <b>synchronous phase</b> at arrival of \"synchronous\" reference particle. <b>Total cavity voltage</b> is given by:\n",
    "\n",
    "$$V_0 = \\int\\limits_{-\\infty}^{+\\infty} ds\\cdot|E_{z,0}(s)|$$\n",
    "\n",
    "Hypothetical maximum energy gain is $\\Delta W = |q|\\cdot V_0$ for particle of charge $q$.\n",
    "\n",
    "$\\implies$ Real $\\Delta W$ reduces due to inevitable field variation during gap transit. <b>Transit-time factor</b>:\n",
    "\n",
    "$$ T = \\frac{\\text{energy gain of particle with }v=\\beta c}{\\text{maximum energy gain (particle with }v\\rightarrow\\infty\\text{)}} \\leq 1 $$"
   ]
  },
  {
   "cell_type": "markdown",
   "id": "bcc4dee1",
   "metadata": {
    "slideshow": {
     "slide_type": "slide"
    }
   },
   "source": [
    "<h2>Approximation #1: Velocity Change</h2>\n",
    "\n",
    "<i>A priori</i>, energy gain is associated with particle velocity change, i.e. exact $T$ depends on $d\\beta$ during passage through rf cavity.\n",
    "\n",
    "For synchrotrons, effect of velocity change is typically negligible to determine energy gain ($\\Delta W\\propto\\Delta\\gamma$):\n",
    "\n",
    "$$\\frac{d\\beta}{\\beta} = \\frac{1}{\\beta^2\\gamma^2} \\cdot \\frac{d\\gamma}{\\gamma}$$\n",
    "\n",
    "$\\implies$ two scenarios where approximation of $T$ independence of $\\Delta\\beta$ applies:\n",
    "\n",
    "$$\\left\\{\\begin{array}\\,\n",
    "    \\gamma \\gg 1 &\\text{: particle is already ultra-relativistic} \\\\\n",
    "    \\Delta\\gamma \\ll \\beta\\gamma &\\text{: energy gain in cavity is much smaller than particle momentum}\n",
    "\\end{array}\\right.$$"
   ]
  },
  {
   "cell_type": "markdown",
   "id": "98811e93",
   "metadata": {
    "slideshow": {
     "slide_type": "slide"
    }
   },
   "source": [
    "<h2><u>Simple</u> Example for $T$</h2>\n",
    "\n",
    "Consider <i>uniform</i> standing wave with $E_{z,0}(s)=V_0/g=\\mathrm{const}$ across gap width $g$ (zero field outside), at crest of rf wave, i.e. $\\varphi_s=\\pi/2$:\n",
    "\n",
    "$$E_z(s, t) = \\frac{V_0}{g} \\,\\cos(\\omega_\\text{rf}\\,t)$$\n",
    "\n",
    "The synchronous particle travels along $s=\\beta c t$ (assuming constant $v=\\beta c$) and picks up an actual maximum energy gain\n",
    "\n",
    "$$\\implies \\Delta W = \\cfrac{q V_0}{g}\\int\\limits_{-g/2}^{+g/2} ds\\cdot \\cos\\left(\\cfrac{\\omega_\\text{rf}\\,s}{\\beta c}\\right)$$\n",
    "\n",
    "and the transit-time factor becomes:\n",
    "\n",
    "$$T = \n",
    "\\left| \\cfrac{\\sin\\left(\\cfrac{\\omega_\\text{rf} g}{2\\beta c}\\right)}{\\cfrac{\\omega_\\text{rf} g}{2\\beta c}} \\right| \\quad \\implies\\quad T\\rightarrow 1 \\Leftrightarrow \\left\\{\\begin{array}\\,\n",
    "    g \\rightarrow 0 \\\\\n",
    "    \\omega_\\text{rf} \\rightarrow 0 \\\\\n",
    "    \\beta c \\rightarrow \\infty\n",
    "\\end{array}\\right.$$\n",
    "\n",
    "$\\implies$ reduction in effective energy gain ($T<1$) is mostly relevant for low-energy protons and ions!"
   ]
  },
  {
   "cell_type": "markdown",
   "id": "6da72037",
   "metadata": {
    "slideshow": {
     "slide_type": "slide"
    }
   },
   "source": [
    "<h2>Energy Gain by RF Cavity</h2>\n",
    "\n",
    "Design / reference energy increases as determined by synchronous phase $\\varphi_s$,\n",
    "\n",
    "$$\\Delta W_0 = q V\\cdot\\sin(\\varphi_s)$$\n",
    "\n",
    "with the effective rf voltage $V = V_0 T$.\n",
    "\n",
    "Real particles travel at a longitudinal distance $z = s - \\beta c t$ to synchronous particle. They experience the rf kick at phase $\\varphi = \\omega_\\text{rf}\\,t = \\varphi_s - \\cfrac{\\omega_\\text{rf} z}{\\beta c}$. Corresponding energy gain is $\\Delta W = q V\\cdot \\sin(\\varphi)$.\n",
    "\n",
    "Expressed as an energy distance $\\Delta E$ to the synchronous particle, $\\Delta E=E_\\text{tot} - E_{\\text{tot},0}$, the discrete energy update of an arbitrary particle passing through a rf cavity becomes\n",
    "\n",
    "$$\\begin{align}\n",
    "\\Delta E|_\\text{after} &= \\Delta E|_\\text{before} + \\Delta W - \\Delta W_0 \\\\\n",
    "&= \\Delta E|_\\text{before} + q V\\cdot \\bigl(\\sin(\\varphi) - \\sin(\\varphi_s)\\bigr)\n",
    "\\end{align}$$"
   ]
  },
  {
   "cell_type": "code",
   "execution_count": null,
   "id": "ac8be573",
   "metadata": {
    "slideshow": {
     "slide_type": "slide"
    }
   },
   "outputs": [],
   "source": [
    "from config import (np, plt, plot_rfwave, #RFBucket, \n",
    "                    plot_hamiltonian, plot_force, plot_potential)\n",
    "from scipy.constants import m_p, e, c\n",
    "%matplotlib inline"
   ]
  },
  {
   "cell_type": "markdown",
   "id": "31d5e567",
   "metadata": {
    "slideshow": {
     "slide_type": "slide"
    }
   },
   "source": [
    "<h2>Phase Focusing Effect</h2>\n",
    "\n",
    "<div class=\"alert alert-block alert-success\" style=\"text-align:center;\">\n",
    "$$\\Delta E|_\\text{after} = \\Delta E|_\\text{before} + q V\\cdot \\left(\\sin\\left(\\varphi_s - \\frac{\\omega_\\text{rf}z}{\\beta c}\\right) - \\sin(\\varphi_s)\\right)$$\n",
    "</div>\n",
    "\n",
    "Phase focusing principle (classical regime):\n",
    "- particle with $\\varphi>\\varphi_s$ arrives later and has $\\color{blue}{\\delta < 0}$: <b>ac</b>celerated towards <span style=\"color: gray;\">synchronous particle</span>!\n",
    "- particle with $\\varphi<\\varphi_s$ arrives early and has $\\color{orange}{\\delta > 0}$: <b>de</b>celerated towards <span style=\"color: gray;\">synchronous particle</span>!"
   ]
  },
  {
   "cell_type": "code",
   "execution_count": null,
   "id": "f1fe1699",
   "metadata": {},
   "outputs": [],
   "source": [
    "plot_rfwave();"
   ]
  },
  {
   "cell_type": "markdown",
   "id": "9d152cb7",
   "metadata": {
    "slideshow": {
     "slide_type": "slide"
    }
   },
   "source": [
    "<h2>Earnshaw's Theorem</h2>\n",
    "\n",
    "<div class=\"alert alert-block alert-success\" style=\"text-align:center;\">\"A charged body cannot be held in stable equilibrium by electrostatic forces from other charged bodies.\"</div>\n",
    "\n",
    "<p style=\"text-align: right;\"><a href=\"./EarnshawPaper.pdf\">S. Earnshaw (1839), Trans. Camb. Phil. Soc. <b>7</b> 97<!--<br />\"On the Nature of the Molecular Forces which Regulate the Constitution of the Luminiferous Ether\"--></a></p>\n",
    "\n",
    "$\\implies$ application to rf accelerators: always one direction in 3D which is defocused!"
   ]
  },
  {
   "cell_type": "markdown",
   "id": "3328bc4d",
   "metadata": {
    "slideshow": {
     "slide_type": "slide"
    }
   },
   "source": [
    "<h2>Approximation #2: Transverse Defocusing</h2>\n",
    "\n",
    "<img src=\"./img/cavity-fields.png\" alt=\"Electric field lines in rf cavity\" style=\"width: 20%; float:right; margin-left: 1em;\" />\n",
    "\n",
    "Real $\\mathbf{E}$ field across gap in rf cavities has transverse component when off axis, classical regime:\n",
    "- focusing at entry\n",
    "- defocusing at exit\n",
    "\n",
    "$\\implies$ DC field leads to net focusing effect (due to gain in longitudinal momentum), but AC field in case of stable longitudinal motion: net defocusing effect (rise in voltage during passage)\n",
    "\n",
    "$\\implies$ typically very weak vs. quadrupole fields and hence often neglected for synchrotrons"
   ]
  },
  {
   "cell_type": "markdown",
   "id": "f54a6ae0",
   "metadata": {
    "slideshow": {
     "slide_type": "slide"
    }
   },
   "source": [
    "<h2>Beam rigidity</h2>\n",
    "\n",
    "Constant dipole field $B$ to steer reference particle around corner at bending radius $\\rho$:\n",
    "\n",
    "$$\\begin{align}\n",
    "F_\\text{centrip} &= F_\\text{L} \\\\\n",
    "\\frac{\\gamma m_0 v^2}{\\rho} &= |q| v B\n",
    "\\end{align}$$\n",
    "\n",
    "<div class=\"alert alert-block alert-success\" style=\"text-align:center;\">\n",
    "$$\\implies B\\rho = \\cfrac{p}{|q|}$$\n",
    "    <p style=\"margin-top: 1em; text-align: center;\">\"<b>Beam rigidity</b>\"</p>\n",
    "</div>\n",
    "\n",
    "\n"
   ]
  },
  {
   "cell_type": "markdown",
   "id": "4cf04833",
   "metadata": {
    "slideshow": {
     "slide_type": "slide"
    }
   },
   "source": [
    "<h2>Synchrotron</h2>\n",
    "\n",
    "<img src=\"./img/synchrotron.png\" alt=\"Sketch of a synchrotron\" style=\"float:right; width:20%; margin-left:1em;\" />\n",
    "\n",
    "A synchrotron:\n",
    "- is a ring with a constant reference orbit of circumference $C$, <br />determined by the dipole magnets (defining the beam rigidity)\n",
    "- has rf systems powered at revolution frequency $f_\\text{rev}$ <br />or integer multiple of it (\"harmonic\" $h$): <b>synchronisation</b>!\n",
    "\n",
    "$$\\begin{align}\n",
    "f_\\text{rev} &= \\frac{\\beta c}{C} \\\\\n",
    "f_\\text{rf} &= h\\,f_\\text{rev}\n",
    "\\end{align}$$\n",
    "\n",
    "$\\implies$ $h$ synchronous particles moving on reference orbit! To accelerate them and for longitudinal phase focusing around them, apply $E_z$ in rf cavity!\n",
    "\n",
    "<span style=\"color: #e6541a;\">$\\implies$ only works with AC field! Why not DC field across cavity gap?</span>\n",
    "\n",
    "<p style=\"clear: both; font-size: 10pt; text-align: right; float: right;\">\n",
    "image from <a href=\"https://npac.ijclab.in2p3.fr/wp-content/uploads/2020/Cours/Accelerators/Longitudinal_dynamics_doc.pdf\">A. Chance and N. Pichoff</a></p>"
   ]
  },
  {
   "cell_type": "markdown",
   "id": "d5a728bb",
   "metadata": {
    "slideshow": {
     "slide_type": "slide"
    }
   },
   "source": [
    "<h2>Acceleration in Synchrotron</h2>\n",
    "\n",
    "<img src=\"./img/sps-cycle.png\" alt=\"CERN SPS super-cycle showing magnetic ramps\" style=\"width:30%; float:right; margin-left: 1em;\" />\n",
    "\n",
    "Require dipole fields to align with increasing momentum to maintain <b>synchronicity</b>!\n",
    "\n",
    "$$\\dot{B}=\\frac{\\dot{p}}{|q|\\rho}$$\n",
    "\n",
    "$\\implies$ \"cycle\": synchrotrons ramp up magnets for acceleration (and back down to receive next beam for acceleration)"
   ]
  },
  {
   "cell_type": "markdown",
   "id": "697372ee",
   "metadata": {
    "slideshow": {
     "slide_type": "slide"
    }
   },
   "source": [
    "<div style=\"text-align: center; width:100%;\">\n",
    "    <h2 style=\"margin-bottom: 1em;\">Part II: Longitudinal Drift</h2>\n",
    "Longitudinal phase space: $({\\color{red}{z}}, \\delta)$\n",
    "</div>"
   ]
  },
  {
   "cell_type": "markdown",
   "id": "3374984d",
   "metadata": {
    "slideshow": {
     "slide_type": "slide"
    }
   },
   "source": [
    "<h2>Mechanism behind Synchrotron</h2>\n",
    "\n",
    "Conceptual \"flow chart\" of synchrotron operation principle:\n",
    "\n",
    "1. dipole field $B$ increase\n",
    "2. thus, bending radius  $\\rho$ decrease\n",
    "3. thus, reference orbit length decrease\n",
    "4. thus, synchronous phase $\\varphi_s$ decrease (earlier arrival of synchronous particle)\n",
    "5. thus, reference energy/momentum increase (if sufficient rf voltage)\n",
    "6. thus, back to synchronism (possibly shorter equilibrium reference orbit)\n",
    "\n",
    "$\\implies$ typically magnetic field ramp $\\dot{B}$ is slow enough $\\implies$ adiabatic acceleration, particles remain focused around synchronous particle"
   ]
  },
  {
   "cell_type": "markdown",
   "id": "9490c794",
   "metadata": {
    "slideshow": {
     "slide_type": "slide"
    }
   },
   "source": [
    "<h2>Off-momentum Trajectory</h2>\n",
    "\n",
    "<img src=\"./img/dispersive_orbit_in_dipole.png\" alt=\"Dispersive orbit in dipole magnet\" style=\"float:right; width:20%; margin-left: 1em;\"/>\n",
    "\n",
    "<p style=\"clear: both; font-size: 10pt; text-align: right; float: right;\">\n",
    "image from <a href=\"https://people.nscl.msu.edu/~haoy/teaching/fundamental_AP/transverse_dynamics/transverse_dynamics.html\">Y. Hao</a></p>\n",
    "\n",
    "<img src=\"./img/microtron.svg\" alt=\"Microtron\" style=\"clear: both; float:right; width: 20%; margin-left: 1em; margin-top: 1em;\" />\n",
    "\n",
    "Particles with higher momentum $\\delta = \\Delta p/p > 0$ than the reference particle are bent less (larger $p$ $\\implies$ larger $\\rho$)!\n",
    "\n",
    "$$\\implies d\\ell = \\left(1 + \\frac{x}{\\rho(s)}\\right) ds$$\n",
    "\n",
    "$\\implies$ larger equilibrium orbit around the machine for fixed dipole fields $B$!\n",
    "\n",
    "Can describe this horizontal offset $x$ due to momentum offset $\\delta$ by dispersion function $D_x(s)$ (more details later in transverse dynamics lecture): \n",
    "\n",
    "$$x(s) = D_x(s) \\delta$$\n",
    "\n",
    "Integrating around machine to get full orbit length:\n",
    "\n",
    "$$\\ell_\\text{tot} = \\oint d\\ell = \\underbrace{\\oint ds}\\limits_{\\mathop{\\equiv} C} + \\delta \\oint ds\\,\\frac{D_x(s)}{\\rho(s)}$$\n",
    "\n",
    "<p style=\"clear: both; font-size: 10pt; text-align: right; float: right;\">\n",
    "image by <a href=\"https://commons.wikimedia.org/wiki/File:ClassicMicrotronSketch.svg\">BR84, Wikimedia</a></p>"
   ]
  },
  {
   "cell_type": "markdown",
   "id": "f7c48d41",
   "metadata": {
    "slideshow": {
     "slide_type": "slide"
    }
   },
   "source": [
    "<h2>Momentum Compaction Factor</h2>\n",
    "\n",
    "Relative difference in path length $\\Delta C/C = (\\ell_\\text{tot} - C)/C$ around the ring compared to synchronous particle is therefore:\n",
    "    \n",
    "$$\\frac{\\Delta C}{C} = \\delta~ \\underbrace{\\frac{1}{C} \\oint ds\\,\\frac{D_x(s)}{\\rho(s)}}\\limits_{\\mathop{\\doteq}\\alpha_c} = \\alpha_c \\frac{\\Delta p}{p}$$\n",
    "\n",
    "The momentum compaction factor expresses \"how much longer the path length around the ring becomes for higher momenta\"!\n",
    "\n",
    "<div class=\"alert alert-block alert-success\" style=\"text-align:center;\">\n",
    "$$\\alpha_c = \\frac{1}{C} \\oint ds\\,\\frac{D_x(s)}{\\rho(s)}$$\n",
    "    <p style=\"margin-top: 1em; text-align: center;\">\"<b>Momentum compaction factor</b>\"</p>\n",
    "</div>\n",
    "\n",
    "$\\implies$ $\\rho=\\infty$ in straight sections, $\\alpha_c=\\cfrac{2\\pi\\langle D_x \\rangle_\\text{mean}}{C}$ with the mean value referring to dipole $\\mathbf{B}$ field areas only!\n",
    "\n",
    "<b>Note:</b> $\\alpha_c$ is an external property given by the magnet configuration."
   ]
  },
  {
   "cell_type": "markdown",
   "id": "fa1539ea",
   "metadata": {
    "slideshow": {
     "slide_type": "slide"
    }
   },
   "source": [
    "<h2>Change of Arrival Time</h2>\n",
    "\n",
    "How does the revolution period (or arrival time of a particle after one turn) $T_\\text{rev}$ change with momentum deviation $\\delta$?\n",
    "\n",
    "$$ T_\\text{rev} = \\frac{1}{f_\\text{rev}} = \\frac{C}{\\beta c} $$\n",
    "\n",
    "With logarithmic differentiation:\n",
    "\n",
    "$$\\frac{\\Delta T_\\text{rev}}{T_\\text{rev}} = \\frac{\\Delta C}{C} - \\frac{\\Delta \\beta}{\\beta}$$\n",
    "\n",
    "Can find $\\Delta\\beta$ relation to momentum deviation via total momentum definition $\\bigl($and $\\gamma=1/\\sqrt{1-\\beta^2}\\bigr)$:\n",
    "\n",
    "$$p = \\beta\\gamma m_0 c \\implies \\frac{\\Delta p}{p} = \\frac{\\Delta\\beta}{\\beta} + \\frac{\\Delta\\gamma}{\\gamma} = \\frac{1}{\\gamma^2}\\cdot \\frac{\\Delta\\beta}{\\beta}$$"
   ]
  },
  {
   "cell_type": "markdown",
   "id": "45b2acce",
   "metadata": {
    "slideshow": {
     "slide_type": "slide"
    }
   },
   "source": [
    "<h2>Phase-slip Factor</h2>\n",
    "\n",
    "Collecting all terms for the arrival time deviation (the longitudinal drift):\n",
    "\n",
    "$$\\begin{align}\n",
    "    \\frac{\\Delta T_\\text{rev}}{T_\\text{rev}} &= \\frac{\\Delta C}{C} - \\frac{\\Delta \\beta}{\\beta} \\\\\n",
    "    &= \\alpha_c \\frac{\\Delta p}{p} - \\frac{1}{\\gamma^2}\\cdot \\frac{\\Delta p}{p} \\equiv \\eta \\delta\n",
    "\\end{align}$$\n",
    "\n",
    "The phase-slip factor expresses \"how much arrival time delay a momentum offset causes\"!\n",
    "\n",
    "<div class=\"alert alert-block alert-success\" style=\"text-align:center;\">\n",
    "$$\\eta = \\alpha_c - \\frac{1}{\\gamma^2}$$\n",
    "    <p style=\"margin-top: 1em; text-align: center;\">\"<b>Phase-slip factor</b>\"</p>\n",
    "</div>\n",
    "\n",
    "<b>Note:</b> $\\eta$ changes with the particle energy via $\\gamma$!"
   ]
  },
  {
   "cell_type": "markdown",
   "id": "577fb0f5",
   "metadata": {
    "slideshow": {
     "slide_type": "slide"
    }
   },
   "source": [
    "<h2>Longitudinal One-turn Map I</h2>\n",
    "\n",
    "The energy gain in the rf cavity,\n",
    "\n",
    "$$\\Delta E|_\\text{after} = \\Delta E|_\\text{before} + q V\\cdot \\left(\\sin\\left(\\varphi_s - \\frac{\\omega_\\text{rf}z}{\\beta c}\\right) - \\sin(\\varphi_s)\\right) \\quad ,$$\n",
    "\n",
    "and the longitudinal drifting (or phase slippage), $\\Delta T_\\text{rev} = \\eta \\delta T_\\text{rev}$, form the discrete longitudinal one-turn map or tracking equations (in absence of other energy loss terms such as synchrotron radiation).\n",
    "\n",
    "Express tracking equations in terms of the phase-space coordinates $(z, \\delta)$ without acceleration $\\Delta E_{\\text{tot},0}=0$: after one turn the longitudinal offset $z=s-\\beta ct$ amounts to\n",
    "\n",
    "$$z=C-\\beta c (T_{\\text{rev},0} + \\Delta T_\\text{rev}) = -\\beta c \\Delta T_\\text{rev} \\implies z_{n+1}=z_n - \\eta C \\delta $$ \n",
    "\n",
    "and with $\\delta = \\frac{\\Delta p}{p_0} = \\frac{1}{p_0}\\cdot \\frac{\\Delta E}{\\beta c}$, \n",
    "\n",
    "$$\\delta_{n+1} = \\delta_n + \\cfrac{q V}{\\beta c p_0}\\cdot\\sin\\left(\\varphi_s - \\cfrac{\\omega_\\text{rf}z}{\\beta c}\\right) \\quad .$$"
   ]
  },
  {
   "cell_type": "markdown",
   "id": "b151be2c",
   "metadata": {
    "slideshow": {
     "slide_type": "slide"
    }
   },
   "source": [
    "<h2>Longitudinal One-turn Map II</h2>\n",
    "\n",
    "In case of acceleration it is more convenient to use $(z,\\Delta p)$, for purely longitudinal simulation models often also $(\\varphi,\\Delta E_{tot}/\\omega_\\text{rev})$ for which phase-space area remains invariant even during acceleration.\n",
    "\n",
    "As long as $\\beta c$ changes, the rf frequency needs to be synchronised as \n",
    "\n",
    "$$\\omega_\\text{rf}=h\\omega_\\text{rev}=2\\pi h / T_\\text{rev} = 2\\pi h \\beta c/C \\quad .$$\n",
    "\n",
    "<div class=\"alert alert-block alert-success\" style=\"text-align:center;\">\n",
    "The <b>longitudinal tracking equations</b> from turn $n$ to $n+1$ in a synchrotron hence read\n",
    "    \n",
    "$$\\left\\{\\begin{array}\\,\n",
    "    z_{n+1} &= z_n - \\eta C \\delta_n \\\\\n",
    "    (\\Delta p)_{n+1} &= (\\Delta p)_n + \\cfrac{q V}{(\\beta c)_n}\\cdot\\left(\\sin\\left(\\varphi_s - \\cfrac{2\\pi}{C}\\cdot hz\\right) - \\sin(\\varphi_s)\\right)\n",
    "\\end{array}\\right.$$\n",
    "\n",
    "<p style=\"text-align: center; margin-top: 1em;\">with the synchronous phase $\\varphi_s$ determined by $(\\delta p_0)_\\text{turn} = \\frac{q V}{\\beta c}\\,sin\\bigl(\\varphi_s\\bigr)$.</p>\n",
    "</div>"
   ]
  },
  {
   "cell_type": "markdown",
   "id": "b5c12fee",
   "metadata": {
    "slideshow": {
     "slide_type": "slide"
    }
   },
   "source": [
    "<h2>Transition Energy and Stability</h2>\n",
    "\n",
    "Defining the <b>transition energy</b>, $$\\gamma_\\text{t} \\doteq \\frac{1}{\\sqrt{\\alpha_c}} \\quad ,$$\n",
    "\n",
    "(i.e. $\\eta = 1/\\gamma_\\text{t}^2 - 1/\\gamma^2$) can distinguish two regimes: \n",
    "\n",
    "| <b>classical regime</b> | <b>relativistic regime</b> |\n",
    "| :-: | :-: |\n",
    "| $\\eta < 0$ | $ \\eta > 0$ |\n",
    "| $\\gamma < \\gamma_\\text{t}$ | $\\gamma > \\gamma_\\text{t}$ |\n",
    "| higher-momentum particles with $\\delta>0$ are faster and arrive before synchronous particle | higher-momentum particles with $\\delta>0$ have no velocity advantage ($\\beta \\rightarrow 1$) but longer path to cover and arrive after synchronous particle |\n",
    "| $\\implies$ choose $\\varphi_s$ with rising slope of $V(\\varphi)$ | $\\implies$ choose $\\varphi_s$ with falling slope of $V(\\varphi)$ (i.e. $\\pi-\\varphi_s$ compared to below transition) |\n",
    "\n",
    "<p style=\"color: #e6541a; margin-top: 4em;\">$\\implies$ what happens to phase focusing at $\\gamma=\\gamma_\\text{t}$?</p>"
   ]
  },
  {
   "cell_type": "markdown",
   "id": "3977179e",
   "metadata": {
    "slideshow": {
     "slide_type": "slide"
    }
   },
   "source": [
    "|  || $\\gamma<\\gamma_\\text{t}$ || $\\gamma>\\gamma_\\text{t}$ |\n",
    "| :- || :-: || :-: |\n",
    "| $\\varphi>\\varphi_s$ || $\\color{blue}{\\delta < 0}$ || $\\color{orange}{\\delta > 0}$ |\n",
    "| $\\varphi<\\varphi_s$ || $\\color{orange}{\\delta > 0}$ || $\\color{blue}{\\delta < 0}$ |"
   ]
  },
  {
   "cell_type": "code",
   "execution_count": null,
   "id": "54f464b7",
   "metadata": {
    "slideshow": {
     "slide_type": "-"
    }
   },
   "outputs": [],
   "source": [
    "plot_rfwave(phi_s=0.5, regime='classical'); # try 'relativistic'"
   ]
  },
  {
   "cell_type": "markdown",
   "id": "9ec5a674",
   "metadata": {
    "slideshow": {
     "slide_type": "slide"
    }
   },
   "source": [
    "<h2>Summary</h2>\n",
    "\n",
    "- Lorentz force, longitudinal $E_z$ field component only means to accelerate\n",
    "- transit-time factor\n",
    "- energy gain in rf cavity: synchronous particle and real particles\n",
    "- beam rigidity $B\\rho=p/|q|$\n",
    "- momentum compaction, phase slippage and transition energy\n",
    "- phase focusing and stability\n",
    "- longitudinal tracking equations"
   ]
  }
 ],
 "metadata": {
  "celltoolbar": "Slideshow",
  "kernelspec": {
   "display_name": "Python 3 (ipykernel)",
   "language": "python",
   "name": "python3"
  },
  "language_info": {
   "codemirror_mode": {
    "name": "ipython",
    "version": 3
   },
   "file_extension": ".py",
   "mimetype": "text/x-python",
   "name": "python",
   "nbconvert_exporter": "python",
   "pygments_lexer": "ipython3",
   "version": "3.8.0"
  },
  "rise": {
   "enable_chalkboard": false,
   "footer": "<p>Fachbereich Elektrotechnik und Informationstechnik (etit)   |   Institut für Teilchenbeschleunigung und Elektromagnetische Felder (TEMF)   |   Dr. Adrian Oeftiger</p>",
   "header": "<img src='https://upload.wikimedia.org/wikipedia/de/thumb/2/24/TU_Darmstadt_Logo.svg/640px-TU_Darmstadt_Logo.svg.png' />",
   "scroll": true,
   "theme": "simple",
   "transition": "none"
  }
 },
 "nbformat": 4,
 "nbformat_minor": 5
}
